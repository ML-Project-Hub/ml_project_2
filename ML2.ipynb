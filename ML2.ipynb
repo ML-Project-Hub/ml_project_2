{
 "cells": [
  {
   "cell_type": "code",
   "execution_count": null,
   "metadata": {
    "collapsed": true
   },
   "outputs": [],
   "source": [
    "import numpy as np\n",
    "import random\n",
    "from sklearn.cluster import KMeans\n",
    "syn_input_data = np.genfromtxt('Info/input.csv', delimiter=',')\n",
    "syn_output_data = np.genfromtxt('Info/output.csv', delimiter=',').reshape([-1, 1])\n",
    "letor_input_data = np.genfromtxt('Info/Querylevelnorm_X.csv', delimiter=',')\n",
    "letor_output_data = np.genfromtxt('Info/Querylevelnorm_t.csv', delimiter=',').reshape([-1, 1])"
   ]
  },
  {
   "cell_type": "code",
   "execution_count": null,
   "metadata": {
    "collapsed": true
   },
   "outputs": [],
   "source": [
    "def compute_design_matrix(X, centers, spreads):\n",
    "    # use broadcast\n",
    "    basis_func_outputs = np.exp(np.sum(np.matmul(X - centers, spreads) * (X - centers),axis=2)/(-2)).T\n",
    "    # insert ones to the 1st col\n",
    "    return np.insert(basis_func_outputs, 0, 1, axis=1)"
   ]
  },
  {
   "cell_type": "code",
   "execution_count": null,
   "metadata": {
    "collapsed": true
   },
   "outputs": [],
   "source": [
    "def closed_form_sol(L2_lambda, design_matrix, output_data):\n",
    "    return np.linalg.solve(\n",
    "    L2_lambda * np.identity(design_matrix.shape[1]) +\n",
    "    np.matmul(design_matrix.T, design_matrix),\n",
    "    np.matmul(design_matrix.T, output_data)\n",
    "    ).flatten()"
   ]
  },
  {
   "cell_type": "code",
   "execution_count": null,
   "metadata": {
    "collapsed": true
   },
   "outputs": [],
   "source": [
    "def SGD_sol(learning_rate,minibatch_size,num_epochs,L2_lambda,design_matrix,output_data):\n",
    "    N, _ = design_matrix.shape\n",
    "    # You can try different mini-batch size size\n",
    "    # Using minibatch_size = N is equivalent to standard gradient descent\n",
    "    # Using minibatch_size = 1 is equivalent to stochastic gradient descent\n",
    "    # In this case, minibatch_size = N is better\n",
    "    weights = np.zeros([1, len(design_matrix[0])])\n",
    "    # The more epochs the higher training accuracy. When set to 1000000,\n",
    "    # weights will be very close to closed_form_weights. But this is unnecessary\n",
    "    for epoch in range(num_epochs):\n",
    "        for i in range(N / minibatch_size):\n",
    "            lower_bound = i * minibatch_size\n",
    "            upper_bound = min((i+1)*minibatch_size, N)\n",
    "            Phi = design_matrix[lower_bound : upper_bound, :]\n",
    "            t = output_data[lower_bound : upper_bound, :]\n",
    "            E_D = np.matmul((np.matmul(Phi, weights.T)-t).T,Phi)\n",
    "            E = (E_D + L2_lambda * weights) / minibatch_size\n",
    "            weights = weights - learning_rate * E\n",
    "            print np.linalg.norm(E)\n",
    "    return weights.flatten()"
   ]
  },
  {
   "cell_type": "code",
   "execution_count": null,
   "metadata": {},
   "outputs": [],
   "source": [
    "def split_data(input_data):\n",
    "    indices = [i for i in range(len(input_data))]\n",
    "    random.shuffle(indices)\n",
    "    length = len(indices)\n",
    "    training_data = [input_data[indices[i]] for i in range(int(length*0.8))]\n",
    "    validation_data = [input_data[indices[i]] for i in range(int(length*0.8),int(length*0.9))]\n",
    "    test_data = [input_data[indices[i]] for i in range(int(length*0.9),length)]\n",
    "    total_data = [input_data[indices[i]] for i in range(length)]\n",
    "    return np.matrix(training_data),np.matrix(validation_data),np.matrix(test_data),np.matrix(total_data)"
   ]
  },
  {
   "cell_type": "code",
   "execution_count": null,
   "metadata": {
    "collapsed": true
   },
   "outputs": [],
   "source": [
    "mat1,mat2,mat3,tot_in = split_data(letor_input_data)\n",
    "mat1 = np.array(mat1)\n",
    "tot_in = np.array(tot_in)"
   ]
  },
  {
   "cell_type": "code",
   "execution_count": null,
   "metadata": {},
   "outputs": [],
   "source": [
    "out1,out2,out3,tot_out = split_data(letor_output_data)\n",
    "#out2 = np.array(out2)"
   ]
  },
  {
   "cell_type": "code",
   "execution_count": null,
   "metadata": {},
   "outputs": [],
   "source": [
    "def k_means(k,input_data):\n",
    "    kmeans = KMeans(n_clusters=k, random_state=None, precompute_distances=True, n_init=30).fit(input_data)\n",
    "    dic = {}\n",
    "    labels = kmeans.labels_\n",
    "    centers = kmeans.cluster_centers_\n",
    "    for i in range(len(labels)):\n",
    "        try:\n",
    "            dic[labels[i]] += [input_data[i]]\n",
    "        except:\n",
    "            dic[labels[i]] = [input_data[i]]\n",
    "\n",
    "    for i in dic.keys():\n",
    "        listty = np.matrix(dic[i])\n",
    "        dic[i] = {}\n",
    "        dic[i][\"val\"] = listty\n",
    "        dic[i][\"center\"] = list(centers[i])\n",
    "        dic[i][\"spread\"] = np.linalg.pinv(np.matrix(np.cov(listty.T)))\n",
    "    return dic"
   ]
  },
  {
   "cell_type": "code",
   "execution_count": null,
   "metadata": {
    "collapsed": true
   },
   "outputs": [],
   "source": [
    "def design_mat_gen(total_data, m_value):\n",
    "    dic = k_means(m_value-1,total_data)\n",
    "    centers = [dic[i][\"center\"] for i in dic.keys()]\n",
    "    centers = np.array([list(i) for i in centers])\n",
    "    spreads = [dic[i][\"spread\"].tolist() for i in dic.keys()]\n",
    "    spreads = np.array(spreads)\n",
    "    design_matrix = compute_design_matrix(np.array(total_data[np.newaxis, :, :]),np.array(centers[:, np.newaxis, :]),spreads)\n",
    "    return design_matrix"
   ]
  },
  {
   "cell_type": "code",
   "execution_count": null,
   "metadata": {
    "collapsed": true
   },
   "outputs": [],
   "source": [
    "def closed_form_w(lambda_value,m_value,training_input,training_output,total_data,design_matrix):\n",
    "    w = np.array(closed_form_sol(L2_lambda=lambda_value,design_matrix=design_matrix[:int(len(design_matrix)*0.8)],output_data=training_output).tolist()[0])\n",
    "    return w\n",
    "\n",
    "def error(output_data,w,dm,lambda_val):\n",
    "    error = 1/2.0*sum([(output_data[i]-sum(w.T*dm[i]))**2 for i in range(len(output_data))]).tolist()[0][0] + lambda_val*sum(1/2.0*w.T*w)\n",
    "    return error\n",
    "\n",
    "def rms_error(error,test_data_len):\n",
    "    rms = np.sqrt(2.0*error/test_data_len)\n",
    "    return rms"
   ]
  },
  {
   "cell_type": "code",
   "execution_count": null,
   "metadata": {
    "scrolled": true
   },
   "outputs": [],
   "source": [
    "l = 0.1\n",
    "p = 10\n",
    "min_val = np.inf\n",
    "j = 0\n",
    "for z in range(2,30):\n",
    "    design_matrix = design_mat_gen(tot_in,z)\n",
    "    w = closed_form_w(l,z,mat1,out1,tot_in,design_matrix)\n",
    "    mat2_dm = design_matrix[int(len(design_matrix)*0.8):int(len(design_matrix)*0.9)]\n",
    "    error_min = error(out2,w,mat2_dm,l)\n",
    "    if (error_min < min_val):\n",
    "        min_val = error_min\n",
    "        min_m = z\n",
    "        min_dm = design_matrix\n",
    "        min_w = w\n",
    "    else:\n",
    "        j +=1\n",
    "    if(j > p):\n",
    "        break\n",
    "    print z,min_m"
   ]
  },
  {
   "cell_type": "code",
   "execution_count": null,
   "metadata": {
    "scrolled": false
   },
   "outputs": [],
   "source": [
    "mat1_dm = min_dm[:int(len(design_matrix)*0.8)]\n",
    "mat2_dm = min_dm[int(len(design_matrix)*0.8):int(len(design_matrix)*0.9)]\n",
    "mat3_dm = min_dm[int(len(design_matrix)*0.9):]\n",
    "\n",
    "error_test = rms_error(error(out3,min_w,mat3_dm,l),len(mat3_dm))\n",
    "print error_test"
   ]
  },
  {
   "cell_type": "code",
   "execution_count": null,
   "metadata": {
    "collapsed": true
   },
   "outputs": [],
   "source": [
    "design_matrix = design_mat_gen(tot_in,563)"
   ]
  },
  {
   "cell_type": "code",
   "execution_count": null,
   "metadata": {},
   "outputs": [],
   "source": [
    "ww = closed_form_w(l,563,mat1,out1,tot_in,design_matrix)"
   ]
  },
  {
   "cell_type": "code",
   "execution_count": null,
   "metadata": {},
   "outputs": [],
   "source": [
    "error_min"
   ]
  },
  {
   "cell_type": "code",
   "execution_count": null,
   "metadata": {},
   "outputs": [],
   "source": [
    "np.matrix([[2,0],[0,2]]).I"
   ]
  },
  {
   "cell_type": "code",
   "execution_count": null,
   "metadata": {
    "scrolled": true
   },
   "outputs": [],
   "source": [
    "np.linalg.norm(min_w)"
   ]
  },
  {
   "cell_type": "code",
   "execution_count": null,
   "metadata": {},
   "outputs": [],
   "source": [
    "j = 0\n",
    "m = 8\n",
    "l = 0.1\n",
    "p = 10\n",
    "min_val = np.inf\n",
    "while (j < p):\n",
    "    design_matrix = design_mat_gen(tot_in,m)\n",
    "    \n",
    "    N, D = mat1.shape\n",
    "    w_sgd = SGD_sol(learning_rate=0.01,minibatch_size=N,num_epochs=10000,L2_lambda=l,design_matrix=design_matrix[:int(len(design_matrix)*0.8)],output_data=out1)\n",
    "    \n",
    "    w_sgd = np.array(w_sgd.tolist()[0])\n",
    "    mat2_dm = design_matrix[int(len(design_matrix)*0.8):int(len(design_matrix)*0.9)]\n",
    "    error_min = error(out2,w_sgd,mat2_dm,l)\n",
    "    if (error_min < min_val):\n",
    "        j = 0\n",
    "        min_val = error_min\n",
    "        min_m = m\n",
    "        min_dm = design_matrix\n",
    "        min_w = w_sgd\n",
    "    else:\n",
    "        j += 1\n",
    "    print m, min_m\n",
    "    m += 1\n",
    "    break"
   ]
  },
  {
   "cell_type": "code",
   "execution_count": null,
   "metadata": {},
   "outputs": [],
   "source": [
    "min_w"
   ]
  },
  {
   "cell_type": "code",
   "execution_count": null,
   "metadata": {},
   "outputs": [],
   "source": [
    "mat1_dm = min_dm[:int(len(design_matrix)*0.8)]\n",
    "mat2_dm = min_dm[int(len(design_matrix)*0.8):int(len(design_matrix)*0.9)]\n",
    "mat3_dm = min_dm[int(len(design_matrix)*0.9):]\n",
    "\n",
    "error_test = rms_error(error(out3,min_w,mat3_dm,l),len(mat3_dm))\n",
    "print error_test"
   ]
  },
  {
   "cell_type": "code",
   "execution_count": null,
   "metadata": {},
   "outputs": [],
   "source": []
  },
  {
   "cell_type": "code",
   "execution_count": null,
   "metadata": {},
   "outputs": [],
   "source": [
    "min_val"
   ]
  },
  {
   "cell_type": "code",
   "execution_count": null,
   "metadata": {},
   "outputs": [],
   "source": [
    "min(np.matmul(w_sgd,design_matrix.T))"
   ]
  },
  {
   "cell_type": "code",
   "execution_count": null,
   "metadata": {},
   "outputs": [],
   "source": [
    "w_sgd"
   ]
  },
  {
   "cell_type": "code",
   "execution_count": null,
   "metadata": {},
   "outputs": [],
   "source": [
    "design_matrix.T"
   ]
  },
  {
   "cell_type": "code",
   "execution_count": null,
   "metadata": {
    "collapsed": true
   },
   "outputs": [],
   "source": []
  },
  {
   "cell_type": "code",
   "execution_count": null,
   "metadata": {
    "collapsed": true
   },
   "outputs": [],
   "source": []
  },
  {
   "cell_type": "code",
   "execution_count": null,
   "metadata": {
    "collapsed": true
   },
   "outputs": [],
   "source": [
    "input_data = letor_input_data\n",
    "output_data = letor_output_data\n",
    "N, D = input_data.shape\n",
    "# Assume we use 3 Gaussian basis functions M = 3\n",
    "# shape = [M, 1, D]\n",
    "centers = np.array([np.ones((D))*1, np.ones((D))*0.5, np.ones((D))*1.5])\n",
    "centers = centers[:, np.newaxis, :]\n",
    "# shape = [M, D, D]\n",
    "spreads = np.array([np.identity(D), np.identity(D), np.identity(D)]) * 0.5\n",
    "# shape = [1, N, D]\n",
    "X = input_data[np.newaxis, :, :]\n",
    "design_matrix = compute_design_matrix(X, centers, spreads)\n",
    "\n",
    "\n",
    "# Closed-form solution\n",
    "print closed_form_sol(L2_lambda=0.1,design_matrix=design_matrix,output_data=output_data)\n",
    "# Gradient descent solution\n",
    "print SGD_sol(learning_rate=1,minibatch_size=N,num_epochs=10000,L2_lambda=0.1,design_matrix=design_matrix,output_data=output_data)"
   ]
  },
  {
   "cell_type": "code",
   "execution_count": null,
   "metadata": {
    "collapsed": true
   },
   "outputs": [],
   "source": []
  }
 ],
 "metadata": {
  "kernelspec": {
   "display_name": "Python 2",
   "language": "python",
   "name": "python2"
  },
  "language_info": {
   "codemirror_mode": {
    "name": "ipython",
    "version": 2
   },
   "file_extension": ".py",
   "mimetype": "text/x-python",
   "name": "python",
   "nbconvert_exporter": "python",
   "pygments_lexer": "ipython2",
   "version": "2.7.13"
  }
 },
 "nbformat": 4,
 "nbformat_minor": 2
}
